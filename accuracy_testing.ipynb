{
 "cells": [
  {
   "cell_type": "markdown",
   "metadata": {},
   "source": [
    "# Tesing Accuracy of Integration Methods"
   ]
  },
  {
   "cell_type": "markdown",
   "metadata": {},
   "source": [
    "## Import"
   ]
  },
  {
   "cell_type": "code",
   "execution_count": 1,
   "metadata": {},
   "outputs": [],
   "source": [
    "import math\n",
    "from integrator import IntegratorSuite"
   ]
  },
  {
   "cell_type": "markdown",
   "metadata": {},
   "source": [
    "## Create Functions"
   ]
  },
  {
   "cell_type": "markdown",
   "metadata": {},
   "source": [
    "I will be testing accuracy over a predefined function $\\frac{\\mathrm{dy}}{\\mathrm{dt}}$ and solution $\\mathrm{y}$"
   ]
  },
  {
   "cell_type": "markdown",
   "metadata": {},
   "source": [
    "I will use $\\frac{\\mathrm{dy}}{\\mathrm{dx}} = x^2 + xy$  and $y(x) = -x + \\frac{\\sqrt{\\pi}\\:\\mathrm{erf}(\\frac{x}{\\sqrt{2}})}{\\sqrt{2}\\:\\mathrm{e}^{-\\frac{x^2}{2}}} + c_1\\mathrm{e}^{\\frac{x^2}{2}}$"
   ]
  },
  {
   "cell_type": "markdown",
   "metadata": {},
   "source": [
    "I will also just assume that $c_1 = 1$, but I will leave this as a changable parameter"
   ]
  },
  {
   "cell_type": "code",
   "execution_count": 3,
   "metadata": {},
   "outputs": [],
   "source": [
    "def derivative(x, y):\n",
    "    \"\"\"\n",
    "    Derivative of function y(x)\n",
    "    \"\"\"\n",
    "    return (x**2) + (x * y)\n",
    "\n",
    "def solution(x, c_1=1):\n",
    "    \"\"\"\n",
    "    Exact solution to derivative above\n",
    "    \"\"\"\n",
    "    frac_upper = (math.sqrt(math.pi) * math.erf(x / math.sqrt(2)))\n",
    "    frac_lower = math.sqrt(2) * math.exp(-1 * 0.5 * (x**2))\n",
    "    term_3 = c_1 * math.exp(0.5 * (x**2))\n",
    "    return (-1 * x) + (frac_upper / frac_lower) + term_3"
   ]
  }
 ],
 "metadata": {
  "kernelspec": {
   "display_name": "Python 3",
   "language": "python",
   "name": "python3"
  },
  "language_info": {
   "codemirror_mode": {
    "name": "ipython",
    "version": 3
   },
   "file_extension": ".py",
   "mimetype": "text/x-python",
   "name": "python",
   "nbconvert_exporter": "python",
   "pygments_lexer": "ipython3",
   "version": "3.10.4"
  }
 },
 "nbformat": 4,
 "nbformat_minor": 2
}
